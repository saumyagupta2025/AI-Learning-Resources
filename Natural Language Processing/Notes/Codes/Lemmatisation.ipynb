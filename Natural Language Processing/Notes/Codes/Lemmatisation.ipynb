{
 "cells": [
  {
   "cell_type": "markdown",
   "metadata": {},
   "source": [
    "# Lemmatisation\n",
    "\n",
    "Lemmatisation is the process of reducing the words to their root word. It is a more advanced version of the stemming. The output we get after lemmatisation, usually called a **lemma**, which is a root word rather than the root stem, the output of stemming.\n",
    "\n",
    "After lemmatisation, the word we will be getting is a valid word that means same thing."
   ]
  },
  {
   "cell_type": "markdown",
   "metadata": {
    "vscode": {
     "languageId": "plaintext"
    }
   },
   "source": [
    "# WordNetLemmatizer\n",
    "NLTK provides a lemmatisation algorithm called WordNetLemmatizer, which is a thin \n",
    "wrapper around **WordNet Corpus**. This class uses morphy() function to the **WordNet CorpusReader** class to find the lemma of the word.\n",
    "\n",
    "WordNetLemmatizer is a lemmatisation algorithm that is used to reduce the \n",
    "words to their root word.\n",
    "\n",
    "\n",
    "* *This takes more time than stemming because it uses a corpus of words to find the root word.*\n",
    "\n",
    "* *Q&A, Chatbots, Text Summarization, can utilise wordnet lemmatisation to understand the user's query better.*"
   ]
  },
  {
   "cell_type": "code",
   "execution_count": 5,
   "metadata": {},
   "outputs": [
    {
     "name": "stderr",
     "output_type": "stream",
     "text": [
      "[nltk_data] Downloading package wordnet to\n",
      "[nltk_data]     /Users/saumyagupta/nltk_data...\n"
     ]
    },
    {
     "data": {
      "text/plain": [
       "True"
      ]
     },
     "execution_count": 5,
     "metadata": {},
     "output_type": "execute_result"
    }
   ],
   "source": [
    "import nltk\n",
    "nltk.download('wordnet')"
   ]
  },
  {
   "cell_type": "code",
   "execution_count": 10,
   "metadata": {},
   "outputs": [
    {
     "data": {
      "text/plain": [
       "'go'"
      ]
     },
     "execution_count": 10,
     "metadata": {},
     "output_type": "execute_result"
    }
   ],
   "source": [
    "from nltk.stem import WordNetLemmatizer\n",
    "\n",
    "lemmatizer = WordNetLemmatizer()\n",
    "\n",
    "# Lemmatise function takes 2 arguments: word and part of speech (POS)\n",
    "# n - noun, v - verb, a - adjective, r - adverb,\n",
    "\n",
    "lemmatizer.lemmatize('going', 'v') "
   ]
  },
  {
   "cell_type": "code",
   "execution_count": 14,
   "metadata": {},
   "outputs": [
    {
     "name": "stdout",
     "output_type": "stream",
     "text": [
      "eating   -->   eat\n",
      "eaten   -->   eat\n",
      "eater   -->   eater\n",
      "eats   -->   eat\n",
      "ate   -->   eat\n",
      "eat   -->   eat\n",
      "write   -->   write\n",
      "written   -->   write\n",
      "writer   -->   writer\n",
      "writes   -->   write\n",
      "wrote   -->   write\n",
      "programmer   -->   programmer\n",
      "programming   -->   program\n",
      "program   -->   program\n",
      "programmed   -->   program\n",
      "going   -->   go\n",
      "goes   -->   go\n",
      "go   -->   go\n",
      "gone   -->   go\n",
      "history   -->   history\n",
      "historical   -->   historical\n",
      "historian   -->   historian\n",
      "historically   -->   historically\n",
      "finally   -->   finally\n",
      "finalised   -->   finalise\n",
      "final   -->   final\n"
     ]
    }
   ],
   "source": [
    "words = ['eating', 'eaten', 'eater', 'eats', 'ate', 'eat', \n",
    "         'write', 'written', 'writer', 'writes', 'wrote', \n",
    "         'programmer', 'programming', 'program', 'programmed', \n",
    "         \"going\", \"goes\", \"go\", \"gone\", \n",
    "         'history', 'historical', 'historian', 'historically',\n",
    "         'finally', 'finalised', 'final']\n",
    "\n",
    "for word in words:\n",
    "    print(word, \"  -->  \", lemmatizer.lemmatize(word, pos='v'))"
   ]
  },
  {
   "cell_type": "code",
   "execution_count": 18,
   "metadata": {},
   "outputs": [
    {
     "data": {
      "text/plain": [
       "'sportingly'"
      ]
     },
     "execution_count": 18,
     "metadata": {},
     "output_type": "execute_result"
    }
   ],
   "source": [
    "lemmatizer.lemmatize('goes', 'v')\n",
    "lemmatizer.lemmatize('fairly', 'v')\n",
    "lemmatizer.lemmatize('sportingly', 'v')"
   ]
  },
  {
   "cell_type": "code",
   "execution_count": null,
   "metadata": {},
   "outputs": [],
   "source": []
  }
 ],
 "metadata": {
  "kernelspec": {
   "display_name": ".venv",
   "language": "python",
   "name": "python3"
  },
  "language_info": {
   "codemirror_mode": {
    "name": "ipython",
    "version": 3
   },
   "file_extension": ".py",
   "mimetype": "text/x-python",
   "name": "python",
   "nbconvert_exporter": "python",
   "pygments_lexer": "ipython3",
   "version": "3.12.5"
  }
 },
 "nbformat": 4,
 "nbformat_minor": 2
}
