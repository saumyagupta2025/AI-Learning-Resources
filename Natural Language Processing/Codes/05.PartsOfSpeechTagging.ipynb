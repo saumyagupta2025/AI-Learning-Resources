{
 "cells": [
  {
   "cell_type": "code",
   "execution_count": 23,
   "metadata": {},
   "outputs": [],
   "source": [
    "# Parts of Speech Tagging\n",
    "\n",
    "# CC - Coordinating Conjunction\n",
    "# CD - Cardinal Number\n",
    "# DT - Determiner\n",
    "# EX - Existential There\n",
    "# FW - Foreign Word\n",
    "# IN - Preposition or subordinating conjunction\n",
    "# JJ - Adjective\n",
    "# JJR - Adjective, Comparative  \n",
    "# JJS - Adjective, Superlative\n",
    "# LS - List Item Marker\n",
    "# MD - Modal\n",
    "# NN - Noun, Singular or Mass\n",
    "# NNS - Noun, Plural\n",
    "# NNP - Proper Noun, Singular\n",
    "# NNPS - Proper Noun, Plural\n",
    "# PDT - Predeterminer\n",
    "# POS - Possessive Ending\n",
    "# PRP - Personal Pronoun\n",
    "# PRP$ - Possessive Pronoun\n",
    "# RB - Adverb\n",
    "# RBR - Adverb, Comparative\n",
    "# RBS - Adverb, Superlative\n",
    "# RP - Particle\n",
    "# SYM - Symbol\n",
    "# TO - to\n",
    "# UH - Interjection\n",
    "# VB - Verb, Base Form\n",
    "# VBD - Verb, Past Tense\n",
    "# VBG - Verb, Gerund or Present Participle\n",
    "# VBN - Verb, Past Participle\n",
    "# VBP - Verb, Non-3rd Person Singular Present\n",
    "# VBZ - Verb, 3rd Person Singular Present\n",
    "# WDT - Wh-Determiner\n",
    "# WP - Wh-Pronoun\n",
    "# WRB - Wh-Adverb\n",
    "\n",
    "\n"
   ]
  },
  {
   "cell_type": "code",
   "execution_count": 24,
   "metadata": {},
   "outputs": [],
   "source": [
    "str = \"Taj Mahal is a beautiful place\"\n",
    "\n",
    "paragraph = \"\"\"My dear brothers and sisters,\n",
    "I stand here before you today with a heart full of gratitude and a deep sense of humility. As the President of this great nation, I have been privileged to witness the remarkable progress and transformation that India has undergone in recent years. But this progress, my friends, is not the work of one person or one government. It is the result of the collective efforts and aspirations of over a billion Indians, each of whom has contributed in their own way to the growth and development of our beloved country.\n",
    "When I look around, I see a nation brimming with energy, optimism, and a renewed sense of purpose. Our economy is growing at a rapid pace, lifting millions out of poverty and ushering in a new era of prosperity. Our scientific and technological achievements are the envy of the world, as we push the boundaries of human knowledge and innovation. And our rich cultural heritage, embodied in our languages, arts, and traditions, continues to inspire and captivate people across the globe.\n",
    "But my friends, as we celebrate our successes, we must also acknowledge the challenges that lie ahead. Poverty, illiteracy, and inequality are still prevalent in many parts of our country. Our environment is under threat, and we must act quickly to preserve the delicate balance of our ecosystems. And with the advent of new technologies and global interconnectedness, we face the daunting task of ensuring that the benefits of progress are shared equitably among all our citizens.\n",
    "Yet, I remain confident that we, the people of India, have the resilience, the ingenuity, and the determination to overcome these obstacles. For we have done it before, time and time again. We have stood united in the face of adversity, drawing strength from our diversity and our shared vision of a better future.\n",
    "My fellow citizens, I believe that the time has come for us to dream big, to set our sights on lofty goals, and to work tirelessly towards their realization. Let us not be content with the status quo, but rather strive to create a India that is a beacon of hope and inspiration for the rest of the world.\n",
    "Together, let us build a nation where every child has access to quality education and healthcare, where every family has a roof over their head and food on the table, where every individual is empowered to reach their full potential. Let us create a society that is just, equitable, and inclusive, where the fruits of our collective labor are shared equally among all.\n",
    "And as we embark on this journey, let us remember the timeless words of our great leader, Mahatma Gandhi, who said, \"Be the change you wish to see in the world.\" Each and every one of us has a role to play, a responsibility to fulfill, in shaping the future of our nation.\n",
    "My friends, the path ahead may not be easy, but it is one that is filled with hope and promise. Let us face it with courage, determination, and a unwavering commitment to the ideals that have always defined us as a people – the ideals of unity, of compassion, and of service to our fellow citizens.\n",
    "In closing, I would like to leave you with a quote that has always inspired me, from the ancient Indian text, the Bhagavad Gita: \"Yoga is the journey of the self, through the self, to the self.\" May we all embark on this journey, and may the light of our collective wisdom and determination guide us towards a future that is brighter and more prosperous for all.\n",
    "Thank you, and may God bless you all.\n",
    "\"\"\""
   ]
  },
  {
   "cell_type": "code",
   "execution_count": 31,
   "metadata": {},
   "outputs": [
    {
     "name": "stderr",
     "output_type": "stream",
     "text": [
      "[nltk_data] Downloading package punkt to\n",
      "[nltk_data]     /Users/saumyagupta/nltk_data...\n",
      "[nltk_data]   Package punkt is already up-to-date!\n",
      "[nltk_data] Downloading package stopwords to\n",
      "[nltk_data]     /Users/saumyagupta/nltk_data...\n",
      "[nltk_data]   Package stopwords is already up-to-date!\n",
      "[nltk_data] Downloading package averaged_perceptron_tagger_eng to\n",
      "[nltk_data]     /Users/saumyagupta/nltk_data...\n",
      "[nltk_data]   Unzipping taggers/averaged_perceptron_tagger_eng.zip.\n"
     ]
    }
   ],
   "source": [
    "import nltk\n",
    "nltk.download('punkt')\n",
    "nltk.download('stopwords')\n",
    "nltk.download('averaged_perceptron_tagger_eng')\n",
    "from nltk.tokenize import PunktSentenceTokenizer, WordPunctTokenizer\n",
    "from nltk import pos_tag\n",
    "from nltk.tokenize import word_tokenize"
   ]
  },
  {
   "cell_type": "code",
   "execution_count": 32,
   "metadata": {},
   "outputs": [
    {
     "data": {
      "text/plain": [
       "['My dear brothers and sisters,\\nI stand here before you today with a heart full of gratitude and a deep sense of humility.',\n",
       " 'As the President of this great nation, I have been privileged to witness the remarkable progress and transformation that India has undergone in recent years.',\n",
       " 'But this progress, my friends, is not the work of one person or one government.',\n",
       " 'It is the result of the collective efforts and aspirations of over a billion Indians, each of whom has contributed in their own way to the growth and development of our beloved country.',\n",
       " 'When I look around, I see a nation brimming with energy, optimism, and a renewed sense of purpose.',\n",
       " 'Our economy is growing at a rapid pace, lifting millions out of poverty and ushering in a new era of prosperity.',\n",
       " 'Our scientific and technological achievements are the envy of the world, as we push the boundaries of human knowledge and innovation.',\n",
       " 'And our rich cultural heritage, embodied in our languages, arts, and traditions, continues to inspire and captivate people across the globe.',\n",
       " 'But my friends, as we celebrate our successes, we must also acknowledge the challenges that lie ahead.',\n",
       " 'Poverty, illiteracy, and inequality are still prevalent in many parts of our country.',\n",
       " 'Our environment is under threat, and we must act quickly to preserve the delicate balance of our ecosystems.',\n",
       " 'And with the advent of new technologies and global interconnectedness, we face the daunting task of ensuring that the benefits of progress are shared equitably among all our citizens.',\n",
       " 'Yet, I remain confident that we, the people of India, have the resilience, the ingenuity, and the determination to overcome these obstacles.',\n",
       " 'For we have done it before, time and time again.',\n",
       " 'We have stood united in the face of adversity, drawing strength from our diversity and our shared vision of a better future.',\n",
       " 'My fellow citizens, I believe that the time has come for us to dream big, to set our sights on lofty goals, and to work tirelessly towards their realization.',\n",
       " 'Let us not be content with the status quo, but rather strive to create a India that is a beacon of hope and inspiration for the rest of the world.',\n",
       " 'Together, let us build a nation where every child has access to quality education and healthcare, where every family has a roof over their head and food on the table, where every individual is empowered to reach their full potential.',\n",
       " 'Let us create a society that is just, equitable, and inclusive, where the fruits of our collective labor are shared equally among all.',\n",
       " 'And as we embark on this journey, let us remember the timeless words of our great leader, Mahatma Gandhi, who said, \"Be the change you wish to see in the world.\"',\n",
       " 'Each and every one of us has a role to play, a responsibility to fulfill, in shaping the future of our nation.',\n",
       " 'My friends, the path ahead may not be easy, but it is one that is filled with hope and promise.',\n",
       " 'Let us face it with courage, determination, and a unwavering commitment to the ideals that have always defined us as a people – the ideals of unity, of compassion, and of service to our fellow citizens.',\n",
       " 'In closing, I would like to leave you with a quote that has always inspired me, from the ancient Indian text, the Bhagavad Gita: \"Yoga is the journey of the self, through the self, to the self.\"',\n",
       " 'May we all embark on this journey, and may the light of our collective wisdom and determination guide us towards a future that is brighter and more prosperous for all.',\n",
       " 'Thank you, and may God bless you all.']"
      ]
     },
     "execution_count": 32,
     "metadata": {},
     "output_type": "execute_result"
    }
   ],
   "source": [
    "tokenizer = PunktSentenceTokenizer(paragraph)\n",
    "sentences = tokenizer.tokenize(paragraph)\n",
    "sentences"
   ]
  },
  {
   "cell_type": "code",
   "execution_count": 33,
   "metadata": {},
   "outputs": [
    {
     "name": "stdout",
     "output_type": "stream",
     "text": [
      "[('My', 'PRP$'), ('dear', 'JJ'), ('brothers', 'NNS'), ('sisters', 'NNS'), (',', ','), ('I', 'PRP'), ('stand', 'VBP'), ('today', 'NN'), ('heart', 'NN'), ('full', 'JJ'), ('gratitude', 'NN'), ('deep', 'JJ'), ('sense', 'NN'), ('humility', 'NN'), ('.', '.')]\n",
      "[('As', 'IN'), ('President', 'NNP'), ('great', 'JJ'), ('nation', 'NN'), (',', ','), ('I', 'PRP'), ('privileged', 'VBD'), ('witness', 'RBR'), ('remarkable', 'JJ'), ('progress', 'NN'), ('transformation', 'NN'), ('India', 'NNP'), ('undergone', 'JJ'), ('recent', 'JJ'), ('years', 'NNS'), ('.', '.')]\n",
      "[('But', 'CC'), ('progress', 'NN'), (',', ','), ('friends', 'NNS'), (',', ','), ('work', 'VBP'), ('one', 'CD'), ('person', 'NN'), ('one', 'CD'), ('government', 'NN'), ('.', '.')]\n",
      "[('It', 'PRP'), ('result', 'VBZ'), ('collective', 'JJ'), ('efforts', 'NNS'), ('aspirations', 'NNS'), ('billion', 'CD'), ('Indians', 'NNPS'), (',', ','), ('contributed', 'VBD'), ('way', 'NN'), ('growth', 'NN'), ('development', 'NN'), ('beloved', 'VBD'), ('country', 'NN'), ('.', '.')]\n",
      "[('When', 'WRB'), ('I', 'PRP'), ('look', 'VBP'), ('around', 'IN'), (',', ','), ('I', 'PRP'), ('see', 'VBP'), ('nation', 'NN'), ('brimming', 'VBG'), ('energy', 'NN'), (',', ','), ('optimism', 'NN'), (',', ','), ('renewed', 'VBN'), ('sense', 'NN'), ('purpose', 'NN'), ('.', '.')]\n",
      "[('Our', 'PRP$'), ('economy', 'NN'), ('growing', 'VBG'), ('rapid', 'JJ'), ('pace', 'NN'), (',', ','), ('lifting', 'VBG'), ('millions', 'NNS'), ('poverty', 'VBP'), ('ushering', 'VBG'), ('new', 'JJ'), ('era', 'NN'), ('prosperity', 'NN'), ('.', '.')]\n",
      "[('Our', 'PRP$'), ('scientific', 'JJ'), ('technological', 'JJ'), ('achievements', 'NNS'), ('envy', 'JJ'), ('world', 'NN'), (',', ','), ('push', 'NN'), ('boundaries', 'NNS'), ('human', 'VBP'), ('knowledge', 'NN'), ('innovation', 'NN'), ('.', '.')]\n",
      "[('And', 'CC'), ('rich', 'JJ'), ('cultural', 'JJ'), ('heritage', 'NN'), (',', ','), ('embodied', 'VBD'), ('languages', 'NNS'), (',', ','), ('arts', 'NNS'), (',', ','), ('traditions', 'NNS'), (',', ','), ('continues', 'VBZ'), ('inspire', 'JJ'), ('captivate', 'NN'), ('people', 'NNS'), ('across', 'IN'), ('globe', 'NN'), ('.', '.')]\n",
      "[('But', 'CC'), ('friends', 'NNS'), (',', ','), ('celebrate', 'NN'), ('successes', 'NNS'), (',', ','), ('must', 'MD'), ('also', 'RB'), ('acknowledge', 'VB'), ('challenges', 'NNS'), ('lie', 'VBN'), ('ahead', 'RB'), ('.', '.')]\n",
      "[('Poverty', 'NN'), (',', ','), ('illiteracy', 'NN'), (',', ','), ('inequality', 'NN'), ('still', 'RB'), ('prevalent', 'VBD'), ('many', 'JJ'), ('parts', 'NNS'), ('country', 'NN'), ('.', '.')]\n",
      "[('Our', 'PRP$'), ('environment', 'NN'), ('threat', 'NN'), (',', ','), ('must', 'MD'), ('act', 'VB'), ('quickly', 'RB'), ('preserve', 'VB'), ('delicate', 'JJ'), ('balance', 'NN'), ('ecosystems', 'NNS'), ('.', '.')]\n",
      "[('And', 'CC'), ('advent', 'JJ'), ('new', 'JJ'), ('technologies', 'NNS'), ('global', 'JJ'), ('interconnectedness', 'NN'), (',', ','), ('face', 'NN'), ('daunting', 'VBG'), ('task', 'NN'), ('ensuring', 'VBG'), ('benefits', 'NNS'), ('progress', 'RB'), ('shared', 'VBN'), ('equitably', 'RB'), ('among', 'IN'), ('citizens', 'NNS'), ('.', '.')]\n",
      "[('Yet', 'RB'), (',', ','), ('I', 'PRP'), ('remain', 'VBP'), ('confident', 'JJ'), (',', ','), ('people', 'NNS'), ('India', 'NNP'), (',', ','), ('resilience', 'NN'), (',', ','), ('ingenuity', 'NN'), (',', ','), ('determination', 'NN'), ('overcome', 'NN'), ('obstacles', 'NNS'), ('.', '.')]\n",
      "[('For', 'IN'), ('done', 'VBN'), (',', ','), ('time', 'NN'), ('time', 'NN'), ('.', '.')]\n",
      "[('We', 'PRP'), ('stood', 'VBD'), ('united', 'JJ'), ('face', 'NN'), ('adversity', 'NN'), (',', ','), ('drawing', 'VBG'), ('strength', 'NN'), ('diversity', 'NN'), ('shared', 'VBN'), ('vision', 'NN'), ('better', 'RBR'), ('future', 'NN'), ('.', '.')]\n",
      "[('My', 'PRP$'), ('fellow', 'JJ'), ('citizens', 'NNS'), (',', ','), ('I', 'PRP'), ('believe', 'VBP'), ('time', 'NN'), ('come', 'VB'), ('us', 'PRP'), ('dream', 'VB'), ('big', 'JJ'), (',', ','), ('set', 'JJ'), ('sights', 'NNS'), ('lofty', 'JJ'), ('goals', 'NNS'), (',', ','), ('work', 'NN'), ('tirelessly', 'RB'), ('towards', 'JJ'), ('realization', 'NN'), ('.', '.')]\n",
      "[('Let', 'VB'), ('us', 'PRP'), ('content', 'JJ'), ('status', 'NN'), ('quo', 'NN'), (',', ','), ('rather', 'RB'), ('strive', 'JJ'), ('create', 'NN'), ('India', 'NNP'), ('beacon', 'NN'), ('hope', 'NN'), ('inspiration', 'NN'), ('rest', 'NN'), ('world', 'NN'), ('.', '.')]\n",
      "[('Together', 'RB'), (',', ','), ('let', 'VB'), ('us', 'PRP'), ('build', 'VB'), ('nation', 'NN'), ('every', 'DT'), ('child', 'NN'), ('access', 'NN'), ('quality', 'NN'), ('education', 'NN'), ('healthcare', 'NN'), (',', ','), ('every', 'DT'), ('family', 'NN'), ('roof', 'VBZ'), ('head', 'NN'), ('food', 'NN'), ('table', 'NN'), (',', ','), ('every', 'DT'), ('individual', 'NN'), ('empowered', 'VBD'), ('reach', 'CC'), ('full', 'JJ'), ('potential', 'NN'), ('.', '.')]\n",
      "[('Let', 'VB'), ('us', 'PRP'), ('create', 'VB'), ('society', 'NN'), (',', ','), ('equitable', 'JJ'), (',', ','), ('inclusive', 'JJ'), (',', ','), ('fruits', 'NNS'), ('collective', 'VBP'), ('labor', 'NN'), ('shared', 'VBN'), ('equally', 'RB'), ('among', 'IN'), ('.', '.')]\n",
      "[('And', 'CC'), ('embark', 'VB'), ('journey', 'NN'), (',', ','), ('let', 'VB'), ('us', 'PRP'), ('remember', 'VB'), ('timeless', 'JJ'), ('words', 'NNS'), ('great', 'JJ'), ('leader', 'NN'), (',', ','), ('Mahatma', 'NNP'), ('Gandhi', 'NNP'), (',', ','), ('said', 'VBD'), (',', ','), ('\"', 'JJ'), ('Be', 'NNP'), ('change', 'NN'), ('wish', 'JJ'), ('see', 'NN'), ('world', 'NN'), ('.\"', 'NN')]\n",
      "[('Each', 'DT'), ('every', 'DT'), ('one', 'CD'), ('us', 'PRP'), ('role', 'NN'), ('play', 'NN'), (',', ','), ('responsibility', 'NN'), ('fulfill', 'NN'), (',', ','), ('shaping', 'VBG'), ('future', 'JJ'), ('nation', 'NN'), ('.', '.')]\n",
      "[('My', 'PRP$'), ('friends', 'NNS'), (',', ','), ('path', 'NN'), ('ahead', 'RB'), ('may', 'MD'), ('easy', 'VB'), (',', ','), ('one', 'CD'), ('filled', 'VBN'), ('hope', 'NN'), ('promise', 'NN'), ('.', '.')]\n",
      "[('Let', 'VB'), ('us', 'PRP'), ('face', 'VB'), ('courage', 'NN'), (',', ','), ('determination', 'NN'), (',', ','), ('unwavering', 'JJ'), ('commitment', 'NN'), ('ideals', 'NNS'), ('always', 'RB'), ('defined', 'VBD'), ('us', 'PRP'), ('people', 'NNS'), ('–', 'VBP'), ('ideals', 'NNS'), ('unity', 'NN'), (',', ','), ('compassion', 'NN'), (',', ','), ('service', 'NN'), ('fellow', 'NN'), ('citizens', 'NNS'), ('.', '.')]\n",
      "[('In', 'IN'), ('closing', 'NN'), (',', ','), ('I', 'PRP'), ('would', 'MD'), ('like', 'VB'), ('leave', 'VB'), ('quote', 'NN'), ('always', 'RB'), ('inspired', 'VBN'), (',', ','), ('ancient', 'JJ'), ('Indian', 'JJ'), ('text', 'NN'), (',', ','), ('Bhagavad', 'NNP'), ('Gita', 'NNP'), (':', ':'), ('\"', 'NN'), ('Yoga', 'NNP'), ('journey', 'NN'), ('self', 'NN'), (',', ','), ('self', 'PRP'), (',', ','), ('self', 'PRP'), ('.\"', 'VBP')]\n",
      "[('May', 'NNP'), ('embark', 'NN'), ('journey', 'NN'), (',', ','), ('may', 'MD'), ('light', 'VB'), ('collective', 'JJ'), ('wisdom', 'NN'), ('determination', 'NN'), ('guide', 'VBP'), ('us', 'PRP'), ('towards', 'IN'), ('future', 'JJ'), ('brighter', 'NN'), ('prosperous', 'JJ'), ('.', '.')]\n",
      "[('Thank', 'NNP'), (',', ','), ('may', 'MD'), ('God', 'NNP'), ('bless', 'NN'), ('.', '.')]\n"
     ]
    }
   ],
   "source": [
    "#Find out parts of speech of words in each sentence\n",
    "from nltk.corpus import stopwords\n",
    "stop_words = set(stopwords.words('english'))\n",
    "for i in range(len(sentences)):\n",
    "    words = WordPunctTokenizer().tokenize(sentences[i])\n",
    "    words = [word for word in words if word not in stop_words]\n",
    "    tags = pos_tag(words)\n",
    "    print(tags)"
   ]
  },
  {
   "cell_type": "code",
   "execution_count": 35,
   "metadata": {},
   "outputs": [
    {
     "data": {
      "text/plain": [
       "[('Taj', 'NNP'),\n",
       " ('Mahal', 'NNP'),\n",
       " ('is', 'VBZ'),\n",
       " ('a', 'DT'),\n",
       " ('beautiful', 'JJ'),\n",
       " ('place', 'NN')]"
      ]
     },
     "execution_count": 35,
     "metadata": {},
     "output_type": "execute_result"
    }
   ],
   "source": [
    "pos_tag(str.split())"
   ]
  },
  {
   "cell_type": "code",
   "execution_count": null,
   "metadata": {},
   "outputs": [],
   "source": []
  }
 ],
 "metadata": {
  "kernelspec": {
   "display_name": ".venv",
   "language": "python",
   "name": "python3"
  },
  "language_info": {
   "codemirror_mode": {
    "name": "ipython",
    "version": 3
   },
   "file_extension": ".py",
   "mimetype": "text/x-python",
   "name": "python",
   "nbconvert_exporter": "python",
   "pygments_lexer": "ipython3",
   "version": "3.12.5"
  }
 },
 "nbformat": 4,
 "nbformat_minor": 2
}
