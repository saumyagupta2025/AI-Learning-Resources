{
 "cells": [
  {
   "cell_type": "code",
   "execution_count": 9,
   "metadata": {},
   "outputs": [
    {
     "name": "stderr",
     "output_type": "stream",
     "text": [
      "[nltk_data] Downloading package punkt to\n",
      "[nltk_data]     /Users/saumyagupta/nltk_data...\n",
      "[nltk_data]   Package punkt is already up-to-date!\n",
      "[nltk_data] Downloading package stopwords to\n",
      "[nltk_data]     /Users/saumyagupta/nltk_data...\n",
      "[nltk_data]   Package stopwords is already up-to-date!\n"
     ]
    },
    {
     "data": {
      "text/plain": [
       "True"
      ]
     },
     "execution_count": 9,
     "metadata": {},
     "output_type": "execute_result"
    }
   ],
   "source": [
    "import nltk\n",
    "nltk.download('punkt')\n",
    "nltk.download('stopwords')"
   ]
  },
  {
   "cell_type": "code",
   "execution_count": 10,
   "metadata": {},
   "outputs": [],
   "source": [
    "paragraph = \"\"\"\n",
    "My dear brothers and sisters,\n",
    "I stand here before you today with a heart full of gratitude and a deep sense of humility. As the President of this great nation, I have been privileged to witness the remarkable progress and transformation that India has undergone in recent years. But this progress, my friends, is not the work of one person or one government. It is the result of the collective efforts and aspirations of over a billion Indians, each of whom has contributed in their own way to the growth and development of our beloved country.\n",
    "When I look around, I see a nation brimming with energy, optimism, and a renewed sense of purpose. Our economy is growing at a rapid pace, lifting millions out of poverty and ushering in a new era of prosperity. Our scientific and technological achievements are the envy of the world, as we push the boundaries of human knowledge and innovation. And our rich cultural heritage, embodied in our languages, arts, and traditions, continues to inspire and captivate people across the globe.\n",
    "But my friends, as we celebrate our successes, we must also acknowledge the challenges that lie ahead. Poverty, illiteracy, and inequality are still prevalent in many parts of our country. Our environment is under threat, and we must act quickly to preserve the delicate balance of our ecosystems. And with the advent of new technologies and global interconnectedness, we face the daunting task of ensuring that the benefits of progress are shared equitably among all our citizens.\n",
    "Yet, I remain confident that we, the people of India, have the resilience, the ingenuity, and the determination to overcome these obstacles. For we have done it before, time and time again. We have stood united in the face of adversity, drawing strength from our diversity and our shared vision of a better future.\n",
    "My fellow citizens, I believe that the time has come for us to dream big, to set our sights on lofty goals, and to work tirelessly towards their realization. Let us not be content with the status quo, but rather strive to create a India that is a beacon of hope and inspiration for the rest of the world.\n",
    "Together, let us build a nation where every child has access to quality education and healthcare, where every family has a roof over their head and food on the table, where every individual is empowered to reach their full potential. Let us create a society that is just, equitable, and inclusive, where the fruits of our collective labor are shared equally among all.\n",
    "And as we embark on this journey, let us remember the timeless words of our great leader, Mahatma Gandhi, who said, \"Be the change you wish to see in the world.\" Each and every one of us has a role to play, a responsibility to fulfill, in shaping the future of our nation.\n",
    "My friends, the path ahead may not be easy, but it is one that is filled with hope and promise. Let us face it with courage, determination, and a unwavering commitment to the ideals that have always defined us as a people – the ideals of unity, of compassion, and of service to our fellow citizens.\n",
    "In closing, I would like to leave you with a quote that has always inspired me, from the ancient Indian text, the Bhagavad Gita: \"Yoga is the journey of the self, through the self, to the self.\" May we all embark on this journey, and may the light of our collective wisdom and determination guide us towards a future that is brighter and more prosperous for all.\n",
    "Thank you, and may God bless you all.\n",
    "\"\"\""
   ]
  },
  {
   "cell_type": "code",
   "execution_count": 24,
   "metadata": {},
   "outputs": [
    {
     "data": {
      "text/plain": [
       "['\\nMy dear brothers and sisters,\\nI stand here before you today with a heart full of gratitude and a deep sense of humility.',\n",
       " 'As the President of this great nation, I have been privileged to witness the remarkable progress and transformation that India has undergone in recent years.',\n",
       " 'But this progress, my friends, is not the work of one person or one government.',\n",
       " 'It is the result of the collective efforts and aspirations of over a billion Indians, each of whom has contributed in their own way to the growth and development of our beloved country.',\n",
       " 'When I look around, I see a nation brimming with energy, optimism, and a renewed sense of purpose.',\n",
       " 'Our economy is growing at a rapid pace, lifting millions out of poverty and ushering in a new era of prosperity.',\n",
       " 'Our scientific and technological achievements are the envy of the world, as we push the boundaries of human knowledge and innovation.',\n",
       " 'And our rich cultural heritage, embodied in our languages, arts, and traditions, continues to inspire and captivate people across the globe.',\n",
       " 'But my friends, as we celebrate our successes, we must also acknowledge the challenges that lie ahead.',\n",
       " 'Poverty, illiteracy, and inequality are still prevalent in many parts of our country.',\n",
       " 'Our environment is under threat, and we must act quickly to preserve the delicate balance of our ecosystems.',\n",
       " 'And with the advent of new technologies and global interconnectedness, we face the daunting task of ensuring that the benefits of progress are shared equitably among all our citizens.',\n",
       " 'Yet, I remain confident that we, the people of India, have the resilience, the ingenuity, and the determination to overcome these obstacles.',\n",
       " 'For we have done it before, time and time again.',\n",
       " 'We have stood united in the face of adversity, drawing strength from our diversity and our shared vision of a better future.',\n",
       " 'My fellow citizens, I believe that the time has come for us to dream big, to set our sights on lofty goals, and to work tirelessly towards their realization.',\n",
       " 'Let us not be content with the status quo, but rather strive to create a India that is a beacon of hope and inspiration for the rest of the world.',\n",
       " 'Together, let us build a nation where every child has access to quality education and healthcare, where every family has a roof over their head and food on the table, where every individual is empowered to reach their full potential.',\n",
       " 'Let us create a society that is just, equitable, and inclusive, where the fruits of our collective labor are shared equally among all.',\n",
       " 'And as we embark on this journey, let us remember the timeless words of our great leader, Mahatma Gandhi, who said, \"Be the change you wish to see in the world.\"',\n",
       " 'Each and every one of us has a role to play, a responsibility to fulfill, in shaping the future of our nation.',\n",
       " 'My friends, the path ahead may not be easy, but it is one that is filled with hope and promise.',\n",
       " 'Let us face it with courage, determination, and a unwavering commitment to the ideals that have always defined us as a people – the ideals of unity, of compassion, and of service to our fellow citizens.',\n",
       " 'In closing, I would like to leave you with a quote that has always inspired me, from the ancient Indian text, the Bhagavad Gita: \"Yoga is the journey of the self, through the self, to the self.\"',\n",
       " 'May we all embark on this journey, and may the light of our collective wisdom and determination guide us towards a future that is brighter and more prosperous for all.',\n",
       " 'Thank you, and may God bless you all.']"
      ]
     },
     "execution_count": 24,
     "metadata": {},
     "output_type": "execute_result"
    }
   ],
   "source": [
    "#Removing StopWords\n",
    "\n",
    "from nltk.stem import PorterStemmer, SnowballStemmer\n",
    "from nltk.corpus import stopwords\n",
    "from nltk.tokenize import PunktSentenceTokenizer\n",
    "\n",
    "stop_words = set(stopwords.words(\"english\"))\n",
    "\n",
    "tokenizer = PunktSentenceTokenizer()\n",
    "\n",
    "sentences = tokenizer.tokenize(paragraph)\n",
    "sentences \n"
   ]
  },
  {
   "cell_type": "code",
   "execution_count": 28,
   "metadata": {},
   "outputs": [
    {
     "name": "stdout",
     "output_type": "stream",
     "text": [
      "['dear brother sister , stand today heart full gratitud deep sen humil .', 'presid great nation , privileg wit remark progress transform india undergon recent year .', 'progress , friend , work one person one govern .', 'result collect effort aspir billion indian , contribut way growth develop belov countri .', 'look around , see nation brim energi , optim , renew sen purpo .', 'economi grow rapid pace , lift million poverti usher new era prosper .', 'scientif technolog achiev envi world , push boundari human knowledg innov .', 'rich cultur heritag , embodi languag , art , tradit , continu inspir captiv peopl across globe .', 'friend , celebr success , must also acknowledg challeng lie ahead .', 'poverti , illiteraci , inequ still preval mani part countri .', 'environ threat , must act quick preserv delic balanc ecosystem .', 'advent new technolog global interconnect , face daunt task ensur benefit progress share equit among citizen .', 'yet , remain confid , peopl india , resili , ingenu , determin overcom obstacl .', ', time time .', 'stand unit face adver , draw strength diver share vision better futur .', 'fellow citizen , believ time come u dream big , set sight lofti goal , work tireless toward realiz .', 'let u content status quo , rather strive creat india beacon hope inspir rest world .', 'togeth , let u build nation everi child access qualiti educ healthcar , everi famili roof head food tabl , everi individu empow reach full potenti .', 'let u creat societi , equit , inclus , fruit collect labor share equal among .', 'embark journey , let u rememb timeless word great leader , mahatma gandhi , say , \" chang wish see world .\"', 'everi one u role play , respon fulfil , shape futur nation .', 'friend , path ahead may easi , one fill hope promi .', 'let u face courag , determin , unwav commit ideal alway defin u peopl – ideal uniti , compass , servic fellow citizen .', 'close , would like leav quot alway inspir , ancient indian text , bhagavad gita : \" yoga journey self , self , self .\"', 'may embark journey , may light collect wisdom determin guid u toward futur brighter prosper .', 'thank , may god bless .']\n"
     ]
    }
   ],
   "source": [
    "stemmer = SnowballStemmer(\"english\")\n",
    "for i in range(len(sentences)):\n",
    "    sentence = sentences[i].lower()\n",
    "    words = WordPunctTokenizer().tokenize(sentences[i])\n",
    "    words = [stemmer.stem(word) for word in words if word not in stop_words]\n",
    "    sentences[i] = ' '.join(words)\n",
    "\n",
    "print(sentences)"
   ]
  },
  {
   "cell_type": "code",
   "execution_count": 29,
   "metadata": {},
   "outputs": [
    {
     "name": "stdout",
     "output_type": "stream",
     "text": [
      "['dear brother sister , stand today heart full gratitud deep sen humil .', 'presid great nation , privileg wit remark progress transform india undergon recent year .', 'progress , friend , work one person one govern .', 'result collect effort aspir billion indian , contribut way growth develop belov countri .', 'look around , see nation brim energi , optim , renew sen purpo .', 'economi grow rapid pace , lift million poverti usher new era prosper .', 'scientif technolog achiev envi world , push boundari human knowledg innov .', 'rich cultur heritag , embodi languag , art , tradit , continu inspir captiv peopl across globe .', 'friend , celebr success , must also acknowledg challeng lie ahead .', 'poverti , illiteraci , inequ still preval mani part countri .', 'environ threat , must act quick preserv delic balanc ecosystem .', 'advent new technolog global interconnect , face daunt task ensur benefit progress share equit among citizen .', 'yet , remain confid , peopl india , resili , ingenu , determin overcom obstacl .', ', time time .', 'stand unit face adver , draw strength diver share vision better futur .', 'fellow citizen , believ time come u dream big , set sight lofti goal , work tireless toward realiz .', 'let u content status quo , rather strive creat india beacon hope inspir rest world .', 'togeth , let u build nation everi child access qualiti educ healthcar , everi famili roof head food tabl , everi individu empow reach full potenti .', 'let u creat societi , equit , inclus , fruit collect labor share equal among .', 'embark journey , let u rememb timeless word great leader , mahatma gandhi , say , \" chang wish see world .\"', 'everi one u role play , respon fulfil , shape futur nation .', 'friend , path ahead may easi , one fill hope promi .', 'let u face courag , determin , unwav commit ideal alway defin u peopl – ideal uniti , compass , servic fellow citizen .', 'close , would like leav quot alway inspir , ancient indian text , bhagavad gita : \" yoga journey self , self , self .\"', 'may embark journey , may light collect wisdom determin guid u toward futur brighter prosper .', 'thank , may god bless .']\n"
     ]
    }
   ],
   "source": [
    "from nltk.stem import WordNetLemmatizer\n",
    "\n",
    "lemmatizer = WordNetLemmatizer()\n",
    "\n",
    "for i in range(len(sentences)):\n",
    "    words = WordPunctTokenizer().tokenize(sentences[i])\n",
    "    words = [lemmatizer.lemmatize(word, pos='v') for word in words if word not in stop_words]\n",
    "    sentences[i] = ' '.join(words)\n",
    "\n",
    "print(sentences)\n"
   ]
  },
  {
   "cell_type": "code",
   "execution_count": null,
   "metadata": {},
   "outputs": [],
   "source": []
  },
  {
   "cell_type": "code",
   "execution_count": null,
   "metadata": {},
   "outputs": [],
   "source": []
  }
 ],
 "metadata": {
  "kernelspec": {
   "display_name": ".venv",
   "language": "python",
   "name": "python3"
  },
  "language_info": {
   "codemirror_mode": {
    "name": "ipython",
    "version": 3
   },
   "file_extension": ".py",
   "mimetype": "text/x-python",
   "name": "python",
   "nbconvert_exporter": "python",
   "pygments_lexer": "ipython3",
   "version": "3.12.5"
  }
 },
 "nbformat": 4,
 "nbformat_minor": 2
}
